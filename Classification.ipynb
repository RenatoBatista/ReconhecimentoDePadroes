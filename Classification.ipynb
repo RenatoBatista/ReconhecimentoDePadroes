{
  "cells": [
    {
      "cell_type": "markdown",
      "metadata": {
        "id": "view-in-github",
        "colab_type": "text"
      },
      "source": [
        "<a href=\"https://colab.research.google.com/github/RenatoBatista/ReconhecimentoDePadroes/blob/main/Classification.ipynb\" target=\"_parent\"><img src=\"https://colab.research.google.com/assets/colab-badge.svg\" alt=\"Open In Colab\"/></a>"
      ]
    },
    {
      "cell_type": "code",
      "execution_count": null,
      "metadata": {
        "id": "o3k_pVby24y7",
        "outputId": "1811accd-6d0b-4d3f-f3f4-6caadea719b9"
      },
      "outputs": [
        {
          "name": "stderr",
          "output_type": "stream",
          "text": [
            "In C:\\ProgramData\\Anaconda3\\lib\\site-packages\\matplotlib\\mpl-data\\stylelib\\_classic_test.mplstyle: \n",
            "The savefig.frameon rcparam was deprecated in Matplotlib 3.1 and will be removed in 3.3.\n",
            "In C:\\ProgramData\\Anaconda3\\lib\\site-packages\\matplotlib\\mpl-data\\stylelib\\_classic_test.mplstyle: \n",
            "The verbose.level rcparam was deprecated in Matplotlib 3.1 and will be removed in 3.3.\n",
            "In C:\\ProgramData\\Anaconda3\\lib\\site-packages\\matplotlib\\mpl-data\\stylelib\\_classic_test.mplstyle: \n",
            "The verbose.fileo rcparam was deprecated in Matplotlib 3.1 and will be removed in 3.3.\n"
          ]
        }
      ],
      "source": [
        "import numpy as np \n",
        "import pandas as pd \n",
        "import os\n",
        "import matplotlib.pyplot as plt\n",
        "import seaborn as sns\n",
        "import warnings\n",
        "warnings.filterwarnings('ignore')\n",
        "data = pd.read_csv('../inputs/classification/smoke_detection_iot.csv')\n",
        "#site: https://www.kaggle.com/datasets/karthickveerakumar/salary-data-simple-linear-regression"
      ]
    },
    {
      "cell_type": "code",
      "execution_count": null,
      "metadata": {
        "id": "EPEde4qf24y-",
        "outputId": "8b0ca945-fc49-4ee9-a42f-2d4eccf83e0c"
      },
      "outputs": [
        {
          "data": {
            "text/html": [
              "<div>\n",
              "<style scoped>\n",
              "    .dataframe tbody tr th:only-of-type {\n",
              "        vertical-align: middle;\n",
              "    }\n",
              "\n",
              "    .dataframe tbody tr th {\n",
              "        vertical-align: top;\n",
              "    }\n",
              "\n",
              "    .dataframe thead th {\n",
              "        text-align: right;\n",
              "    }\n",
              "</style>\n",
              "<table border=\"1\" class=\"dataframe\">\n",
              "  <thead>\n",
              "    <tr style=\"text-align: right;\">\n",
              "      <th></th>\n",
              "      <th>Unnamed: 0</th>\n",
              "      <th>UTC</th>\n",
              "      <th>Temperature[C]</th>\n",
              "      <th>Humidity[%]</th>\n",
              "      <th>TVOC[ppb]</th>\n",
              "      <th>eCO2[ppm]</th>\n",
              "      <th>Raw H2</th>\n",
              "      <th>Raw Ethanol</th>\n",
              "      <th>Pressure[hPa]</th>\n",
              "      <th>PM1.0</th>\n",
              "      <th>PM2.5</th>\n",
              "      <th>NC0.5</th>\n",
              "      <th>NC1.0</th>\n",
              "      <th>NC2.5</th>\n",
              "      <th>CNT</th>\n",
              "      <th>Fire Alarm</th>\n",
              "    </tr>\n",
              "  </thead>\n",
              "  <tbody>\n",
              "    <tr>\n",
              "      <th>count</th>\n",
              "      <td>62630.000000</td>\n",
              "      <td>6.263000e+04</td>\n",
              "      <td>62630.000000</td>\n",
              "      <td>62630.000000</td>\n",
              "      <td>62630.000000</td>\n",
              "      <td>62630.000000</td>\n",
              "      <td>62630.000000</td>\n",
              "      <td>62630.000000</td>\n",
              "      <td>62630.000000</td>\n",
              "      <td>62630.000000</td>\n",
              "      <td>62630.000000</td>\n",
              "      <td>62630.000000</td>\n",
              "      <td>62630.000000</td>\n",
              "      <td>62630.000000</td>\n",
              "      <td>62630.000000</td>\n",
              "      <td>62630.000000</td>\n",
              "    </tr>\n",
              "    <tr>\n",
              "      <th>mean</th>\n",
              "      <td>31314.500000</td>\n",
              "      <td>1.654792e+09</td>\n",
              "      <td>15.970424</td>\n",
              "      <td>48.539499</td>\n",
              "      <td>1942.057528</td>\n",
              "      <td>670.021044</td>\n",
              "      <td>12942.453936</td>\n",
              "      <td>19754.257912</td>\n",
              "      <td>938.627649</td>\n",
              "      <td>100.594309</td>\n",
              "      <td>184.467770</td>\n",
              "      <td>491.463608</td>\n",
              "      <td>203.586487</td>\n",
              "      <td>80.049042</td>\n",
              "      <td>10511.386157</td>\n",
              "      <td>0.714626</td>\n",
              "    </tr>\n",
              "    <tr>\n",
              "      <th>std</th>\n",
              "      <td>18079.868017</td>\n",
              "      <td>1.100025e+05</td>\n",
              "      <td>14.359576</td>\n",
              "      <td>8.865367</td>\n",
              "      <td>7811.589055</td>\n",
              "      <td>1905.885439</td>\n",
              "      <td>272.464305</td>\n",
              "      <td>609.513156</td>\n",
              "      <td>1.331344</td>\n",
              "      <td>922.524245</td>\n",
              "      <td>1976.305615</td>\n",
              "      <td>4265.661251</td>\n",
              "      <td>2214.738556</td>\n",
              "      <td>1083.383189</td>\n",
              "      <td>7597.870997</td>\n",
              "      <td>0.451596</td>\n",
              "    </tr>\n",
              "    <tr>\n",
              "      <th>min</th>\n",
              "      <td>0.000000</td>\n",
              "      <td>1.654712e+09</td>\n",
              "      <td>-22.010000</td>\n",
              "      <td>10.740000</td>\n",
              "      <td>0.000000</td>\n",
              "      <td>400.000000</td>\n",
              "      <td>10668.000000</td>\n",
              "      <td>15317.000000</td>\n",
              "      <td>930.852000</td>\n",
              "      <td>0.000000</td>\n",
              "      <td>0.000000</td>\n",
              "      <td>0.000000</td>\n",
              "      <td>0.000000</td>\n",
              "      <td>0.000000</td>\n",
              "      <td>0.000000</td>\n",
              "      <td>0.000000</td>\n",
              "    </tr>\n",
              "    <tr>\n",
              "      <th>25%</th>\n",
              "      <td>15657.250000</td>\n",
              "      <td>1.654743e+09</td>\n",
              "      <td>10.994250</td>\n",
              "      <td>47.530000</td>\n",
              "      <td>130.000000</td>\n",
              "      <td>400.000000</td>\n",
              "      <td>12830.000000</td>\n",
              "      <td>19435.000000</td>\n",
              "      <td>938.700000</td>\n",
              "      <td>1.280000</td>\n",
              "      <td>1.340000</td>\n",
              "      <td>8.820000</td>\n",
              "      <td>1.384000</td>\n",
              "      <td>0.033000</td>\n",
              "      <td>3625.250000</td>\n",
              "      <td>0.000000</td>\n",
              "    </tr>\n",
              "    <tr>\n",
              "      <th>50%</th>\n",
              "      <td>31314.500000</td>\n",
              "      <td>1.654762e+09</td>\n",
              "      <td>20.130000</td>\n",
              "      <td>50.150000</td>\n",
              "      <td>981.000000</td>\n",
              "      <td>400.000000</td>\n",
              "      <td>12924.000000</td>\n",
              "      <td>19501.000000</td>\n",
              "      <td>938.816000</td>\n",
              "      <td>1.810000</td>\n",
              "      <td>1.880000</td>\n",
              "      <td>12.450000</td>\n",
              "      <td>1.943000</td>\n",
              "      <td>0.044000</td>\n",
              "      <td>9336.000000</td>\n",
              "      <td>1.000000</td>\n",
              "    </tr>\n",
              "    <tr>\n",
              "      <th>75%</th>\n",
              "      <td>46971.750000</td>\n",
              "      <td>1.654778e+09</td>\n",
              "      <td>25.409500</td>\n",
              "      <td>53.240000</td>\n",
              "      <td>1189.000000</td>\n",
              "      <td>438.000000</td>\n",
              "      <td>13109.000000</td>\n",
              "      <td>20078.000000</td>\n",
              "      <td>939.418000</td>\n",
              "      <td>2.090000</td>\n",
              "      <td>2.180000</td>\n",
              "      <td>14.420000</td>\n",
              "      <td>2.249000</td>\n",
              "      <td>0.051000</td>\n",
              "      <td>17164.750000</td>\n",
              "      <td>1.000000</td>\n",
              "    </tr>\n",
              "    <tr>\n",
              "      <th>max</th>\n",
              "      <td>62629.000000</td>\n",
              "      <td>1.655130e+09</td>\n",
              "      <td>59.930000</td>\n",
              "      <td>75.200000</td>\n",
              "      <td>60000.000000</td>\n",
              "      <td>60000.000000</td>\n",
              "      <td>13803.000000</td>\n",
              "      <td>21410.000000</td>\n",
              "      <td>939.861000</td>\n",
              "      <td>14333.690000</td>\n",
              "      <td>45432.260000</td>\n",
              "      <td>61482.030000</td>\n",
              "      <td>51914.680000</td>\n",
              "      <td>30026.438000</td>\n",
              "      <td>24993.000000</td>\n",
              "      <td>1.000000</td>\n",
              "    </tr>\n",
              "  </tbody>\n",
              "</table>\n",
              "</div>"
            ],
            "text/plain": [
              "         Unnamed: 0           UTC  Temperature[C]   Humidity[%]     TVOC[ppb]  \\\n",
              "count  62630.000000  6.263000e+04    62630.000000  62630.000000  62630.000000   \n",
              "mean   31314.500000  1.654792e+09       15.970424     48.539499   1942.057528   \n",
              "std    18079.868017  1.100025e+05       14.359576      8.865367   7811.589055   \n",
              "min        0.000000  1.654712e+09      -22.010000     10.740000      0.000000   \n",
              "25%    15657.250000  1.654743e+09       10.994250     47.530000    130.000000   \n",
              "50%    31314.500000  1.654762e+09       20.130000     50.150000    981.000000   \n",
              "75%    46971.750000  1.654778e+09       25.409500     53.240000   1189.000000   \n",
              "max    62629.000000  1.655130e+09       59.930000     75.200000  60000.000000   \n",
              "\n",
              "          eCO2[ppm]        Raw H2   Raw Ethanol  Pressure[hPa]         PM1.0  \\\n",
              "count  62630.000000  62630.000000  62630.000000   62630.000000  62630.000000   \n",
              "mean     670.021044  12942.453936  19754.257912     938.627649    100.594309   \n",
              "std     1905.885439    272.464305    609.513156       1.331344    922.524245   \n",
              "min      400.000000  10668.000000  15317.000000     930.852000      0.000000   \n",
              "25%      400.000000  12830.000000  19435.000000     938.700000      1.280000   \n",
              "50%      400.000000  12924.000000  19501.000000     938.816000      1.810000   \n",
              "75%      438.000000  13109.000000  20078.000000     939.418000      2.090000   \n",
              "max    60000.000000  13803.000000  21410.000000     939.861000  14333.690000   \n",
              "\n",
              "              PM2.5         NC0.5         NC1.0         NC2.5           CNT  \\\n",
              "count  62630.000000  62630.000000  62630.000000  62630.000000  62630.000000   \n",
              "mean     184.467770    491.463608    203.586487     80.049042  10511.386157   \n",
              "std     1976.305615   4265.661251   2214.738556   1083.383189   7597.870997   \n",
              "min        0.000000      0.000000      0.000000      0.000000      0.000000   \n",
              "25%        1.340000      8.820000      1.384000      0.033000   3625.250000   \n",
              "50%        1.880000     12.450000      1.943000      0.044000   9336.000000   \n",
              "75%        2.180000     14.420000      2.249000      0.051000  17164.750000   \n",
              "max    45432.260000  61482.030000  51914.680000  30026.438000  24993.000000   \n",
              "\n",
              "         Fire Alarm  \n",
              "count  62630.000000  \n",
              "mean       0.714626  \n",
              "std        0.451596  \n",
              "min        0.000000  \n",
              "25%        0.000000  \n",
              "50%        1.000000  \n",
              "75%        1.000000  \n",
              "max        1.000000  "
            ]
          },
          "execution_count": 2,
          "metadata": {},
          "output_type": "execute_result"
        }
      ],
      "source": [
        "data.describe()"
      ]
    },
    {
      "cell_type": "code",
      "execution_count": null,
      "metadata": {
        "id": "95o2w6pl24y-",
        "outputId": "72c860b5-100c-4231-cb0f-b1050698de6d"
      },
      "outputs": [
        {
          "data": {
            "text/plain": [
              "((62630, 15), (62630,))"
            ]
          },
          "execution_count": 48,
          "metadata": {},
          "output_type": "execute_result"
        }
      ],
      "source": [
        "X_, y_ = data.drop('Fire Alarm',axis=1), data['Fire Alarm']\n",
        "X_.shape, y_.shape"
      ]
    },
    {
      "cell_type": "code",
      "execution_count": null,
      "metadata": {
        "id": "Mq_W75J024y_"
      },
      "outputs": [],
      "source": [
        "from sklearn.linear_model import LogisticRegression\n",
        "\n",
        "modelo = LogisticRegression()\n",
        "modelo.fit(X_,y_)\n",
        "ypred = modelo.predict(X_)"
      ]
    },
    {
      "cell_type": "code",
      "execution_count": null,
      "metadata": {
        "id": "lK6r2tc-24y_",
        "outputId": "a428106a-1d33-4bef-917d-2fb6103237a3"
      },
      "outputs": [
        {
          "data": {
            "text/plain": [
              "array([[-4.24774615e-15,  5.54691689e-10,  4.22108205e-20,\n",
              "         2.42744236e-17, -3.13517578e-15, -1.92671898e-16,\n",
              "         4.40491700e-15,  6.15420126e-15,  3.15436537e-16,\n",
              "        -1.96471195e-16, -3.16947688e-16, -1.06876656e-15,\n",
              "        -3.45795611e-16, -1.14277068e-16,  1.50784590e-14]])"
            ]
          },
          "execution_count": 180,
          "metadata": {},
          "output_type": "execute_result"
        }
      ],
      "source": [
        "modelo.coef_"
      ]
    },
    {
      "cell_type": "code",
      "execution_count": null,
      "metadata": {
        "id": "9RWk3nX_24zA",
        "outputId": "e3300b25-39e5-45f8-f635-daf84d658028"
      },
      "outputs": [
        {
          "name": "stdout",
          "output_type": "stream",
          "text": [
            "0.2853744212038959\n",
            "0.7146255787961041\n"
          ]
        }
      ],
      "source": [
        "from sklearn.metrics import mean_squared_error\n",
        "from sklearn.metrics import accuracy_score\n",
        "\n",
        "print(mean_squared_error(y_, ypred))\n",
        "print(accuracy_score(y_, ypred))"
      ]
    },
    {
      "cell_type": "code",
      "execution_count": null,
      "metadata": {
        "id": "sfhvHE6D24zA",
        "outputId": "86da459e-be6f-4823-b71f-57239502de22"
      },
      "outputs": [
        {
          "data": {
            "text/plain": [
              "array([3.35261685e-19])"
            ]
          },
          "execution_count": 182,
          "metadata": {},
          "output_type": "execute_result"
        }
      ],
      "source": [
        "modelo.intercept_"
      ]
    },
    {
      "cell_type": "code",
      "execution_count": null,
      "metadata": {
        "id": "17-w0pvk24zB",
        "outputId": "aadbaf15-ec4a-4c7f-d20c-123c4edd7883"
      },
      "outputs": [
        {
          "data": {
            "image/png": "[encoded data removed]",
            "text/plain": [
              "<Figure size 432x288 with 1 Axes>"
            ]
          },
          "metadata": {
            "needs_background": "light"
          },
          "output_type": "display_data"
        },
        {
          "data": {
            "image/png": "[encoded data removed]",
            "text/plain": [
              "<Figure size 432x288 with 1 Axes>"
            ]
          },
          "metadata": {
            "needs_background": "light"
          },
          "output_type": "display_data"
        },
        {
          "data": {
            "image/png": "[encoded data removed]",
            "text/plain": [
              "<Figure size 432x288 with 1 Axes>"
            ]
          },
          "metadata": {
            "needs_background": "light"
          },
          "output_type": "display_data"
        }
      ],
      "source": [
        "from sklearn.linear_model import LogisticRegression\n",
        "for k in range(1,12,4):\n",
        "    modelo = LogisticRegression()\n",
        "    modelo.fit(X_,y_)\n",
        "    ypred = modelo.predict(X_)\n",
        "    plot(k, 2)\n",
        "\n",
        "import numpy as np\n",
        "\n",
        "def plot(i, delta):\n",
        "    erros = []\n",
        "    coef = modelo.coef_[0][i]\n",
        "    intercept = modelo.intercept_[0]\n",
        "    ws = np.linspace(intercept-delta,intercept+delta,100)\n",
        "    for w in ws:\n",
        "        #print(w)\n",
        "        modelo.intercept_ = w\n",
        "        print(modelo.intercept_)\n",
        "        ypred = modelo.predict(X_)\n",
        "        erro = mean_squared_error(y_, ypred)\n",
        "        erros.append(erro)\n",
        "    modelo.coef_[0][i] = coef\n",
        "    plt.ylabel(\"Erro\")\n",
        "    plt.xlabel(f\"W[{i}]\")\n",
        "    plt.plot(ws, erros)\n",
        "    plt.show()\n",
        "\n",
        "#plot(0, 5e10)"
      ]
    },
    {
      "cell_type": "code",
      "execution_count": null,
      "metadata": {
        "id": "WNcyBsu124zC"
      },
      "outputs": [],
      "source": [
        "#Variando o coef"
      ]
    },
    {
      "cell_type": "code",
      "execution_count": null,
      "metadata": {
        "id": "6Yib1Jqx24zE",
        "outputId": "c063534f-fa5a-40ef-c33a-991b5b75ee08"
      },
      "outputs": [
        {
          "data": {
            "image/png": "[encoded data removed]",
            "text/plain": [
              "<Figure size 432x288 with 1 Axes>"
            ]
          },
          "metadata": {
            "needs_background": "light"
          },
          "output_type": "display_data"
        }
      ],
      "source": [
        "import numpy as np\n",
        "erros=0\n",
        "ws=0\n",
        "def plot(i, delta):\n",
        "    erros = []\n",
        "    coef = modelo.coef_[0][i]\n",
        "    ws = np.linspace(coef-delta,coef+delta,100)\n",
        "    for w in ws:\n",
        "        modelo.coef_[0][i] = w\n",
        "        ypred = modelo.predict(X_)\n",
        "        erro = mean_squared_error(y_, ypred)\n",
        "        erros.append(erro)\n",
        "    modelo.coef_[0][i] = coef\n",
        "    plt.ylabel(\"Erro\")\n",
        "    plt.xlabel(f\"W[{i}]\")\n",
        "    plt.plot(ws, erros)\n",
        "    plt.show()\n",
        "\n",
        "plot(10, 0.05)"
      ]
    },
    {
      "cell_type": "code",
      "execution_count": null,
      "metadata": {
        "id": "7PYI6E8k24zF",
        "outputId": "03f86a5e-c836-4264-a7b0-23da95cdb5ff"
      },
      "outputs": [
        {
          "data": {
            "image/png": "[encoded data removed]",
            "text/plain": [
              "<Figure size 432x288 with 1 Axes>"
            ]
          },
          "metadata": {
            "needs_background": "light"
          },
          "output_type": "display_data"
        }
      ],
      "source": [
        "import numpy as np\n",
        "erros=0\n",
        "ws=0\n",
        "def plot(i, delta):\n",
        "    erros = []\n",
        "    coef = modelo.coef_[0][i]\n",
        "    ws = np.linspace(coef-delta,coef+delta,100)\n",
        "    for w in ws:\n",
        "        modelo.coef_[0][i] = w\n",
        "        ypred = modelo.predict(X_)\n",
        "        erro = mean_squared_error(y_, ypred)\n",
        "        erros.append(erro)\n",
        "    modelo.coef_[0][i] = coef\n",
        "    plt.ylabel(\"Erro\")\n",
        "    plt.xlabel(f\"W[{i}]\")\n",
        "    plt.plot(ws, erros)\n",
        "    plt.show()\n",
        "\n",
        "plot(0, 0.05)"
      ]
    },
    {
      "cell_type": "code",
      "execution_count": null,
      "metadata": {
        "id": "OiBREaQx24zF",
        "outputId": "d1d6c9b0-1689-4019-ecb0-33e63f58c0b8"
      },
      "outputs": [
        {
          "data": {
            "image/png": "[encoded data removed]",
            "text/plain": [
              "<Figure size 432x288 with 1 Axes>"
            ]
          },
          "metadata": {
            "needs_background": "light"
          },
          "output_type": "display_data"
        }
      ],
      "source": [
        "import numpy as np\n",
        "erros=0\n",
        "ws=0\n",
        "def plot(i, delta):\n",
        "    erros = []\n",
        "    coef = modelo.coef_[0][i]\n",
        "    ws = np.linspace(coef-delta,coef+delta,100)\n",
        "    for w in ws:\n",
        "        modelo.coef_[0][i] = w\n",
        "        ypred = modelo.predict(X_)\n",
        "        erro = mean_squared_error(y_, ypred)\n",
        "        erros.append(erro)\n",
        "    modelo.coef_[0][i] = coef\n",
        "    plt.ylabel(\"Erro\")\n",
        "    plt.xlabel(f\"W[{i}]\")\n",
        "    plt.plot(ws, erros)\n",
        "    plt.show()\n",
        "\n",
        "plot(2, 0.05)"
      ]
    },
    {
      "cell_type": "code",
      "execution_count": null,
      "metadata": {
        "id": "dCnbW9PY24zG"
      },
      "outputs": [],
      "source": [
        "modelo.intercept_=1"
      ]
    },
    {
      "cell_type": "code",
      "execution_count": null,
      "metadata": {
        "id": "_-rze-tM24zH"
      },
      "outputs": [],
      "source": []
    }
  ],
  "metadata": {
    "kernelspec": {
      "display_name": "Python 3",
      "language": "python",
      "name": "python3"
    },
    "language_info": {
      "codemirror_mode": {
        "name": "ipython",
        "version": 3
      },
      "file_extension": ".py",
      "mimetype": "text/x-python",
      "name": "python",
      "nbconvert_exporter": "python",
      "pygments_lexer": "ipython3",
      "version": "3.7.7"
    },
    "colab": {
      "provenance": [],
      "include_colab_link": true
    }
  },
  "nbformat": 4,
  "nbformat_minor": 0
}