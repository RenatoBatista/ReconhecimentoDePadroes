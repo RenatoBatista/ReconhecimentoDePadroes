{
  "nbformat": 4,
  "nbformat_minor": 0,
  "metadata": {
    "colab": {
      "provenance": [],
      "include_colab_link": true
    },
    "kernelspec": {
      "name": "python3",
      "display_name": "Python 3"
    },
    "language_info": {
      "name": "python"
    }
  },
  "cells": [
    {
      "cell_type": "markdown",
      "metadata": {
        "id": "view-in-github",
        "colab_type": "text"
      },
      "source": [
        "<a href=\"https://colab.research.google.com/github/RenatoBatista/ReconhecimentoDePadroes/blob/main/Renato_Batista_aula08_mnist.ipynb\" target=\"_parent\"><img src=\"https://colab.research.google.com/assets/colab-badge.svg\" alt=\"Open In Colab\"/></a>"
      ]
    },
    {
      "cell_type": "code",
      "execution_count": null,
      "metadata": {
        "id": "N6IiWnrybXpr"
      },
      "outputs": [],
      "source": [
        "import tensorflow as tf\n",
        "import gzip\n",
        "import numpy as np"
      ]
    },
    {
      "cell_type": "code",
      "source": [
        "!wget --no-check-certificate --content-disposition http://yann.lecun.com/exdb/mnist/train-images-idx3-ubyte.gz http://yann.lecun.com/exdb/mnist/train-labels-idx1-ubyte.gz http://yann.lecun.com/exdb/mnist/t10k-images-idx3-ubyte.gz http://yann.lecun.com/exdb/mnist/t10k-labels-idx1-ubyte.gz"
      ],
      "metadata": {
        "colab": {
          "base_uri": "https://localhost:8080/"
        },
        "id": "ngxHReddqzs3",
        "outputId": "fe6a7067-a6bc-4ae8-f6ab-a7b7ddaf2ee1"
      },
      "execution_count": null,
      "outputs": [
        {
          "output_type": "stream",
          "name": "stdout",
          "text": [
            "--2023-06-02 01:51:50--  http://yann.lecun.com/exdb/mnist/train-images-idx3-ubyte.gz\n",
            "Resolving yann.lecun.com (yann.lecun.com)... 172.67.171.76, 104.21.29.36, 2606:4700:3034::6815:1d24, ...\n",
            "Connecting to yann.lecun.com (yann.lecun.com)|172.67.171.76|:80... connected.\n",
            "HTTP request sent, awaiting response... 200 OK\n",
            "Length: 9912422 (9.5M) [application/x-gzip]\n",
            "Saving to: ‘train-images-idx3-ubyte.gz.1’\n",
            "\n",
            "\r          train-ima   0%[                    ]       0  --.-KB/s               \rtrain-images-idx3-u 100%[===================>]   9.45M  --.-KB/s    in 0.1s    \n",
            "\n",
            "2023-06-02 01:51:50 (75.2 MB/s) - ‘train-images-idx3-ubyte.gz.1’ saved [9912422/9912422]\n",
            "\n",
            "--2023-06-02 01:51:50--  http://yann.lecun.com/exdb/mnist/train-labels-idx1-ubyte.gz\n",
            "Reusing existing connection to yann.lecun.com:80.\n",
            "HTTP request sent, awaiting response... 200 OK\n",
            "Length: 28881 (28K) [application/x-gzip]\n",
            "Saving to: ‘train-labels-idx1-ubyte.gz.1’\n",
            "\n",
            "train-labels-idx1-u 100%[===================>]  28.20K  --.-KB/s    in 0s      \n",
            "\n",
            "2023-06-02 01:51:50 (286 MB/s) - ‘train-labels-idx1-ubyte.gz.1’ saved [28881/28881]\n",
            "\n",
            "--2023-06-02 01:51:50--  http://yann.lecun.com/exdb/mnist/t10k-images-idx3-ubyte.gz\n",
            "Reusing existing connection to yann.lecun.com:80.\n",
            "HTTP request sent, awaiting response... 200 OK\n",
            "Length: 1648877 (1.6M) [application/x-gzip]\n",
            "Saving to: ‘t10k-images-idx3-ubyte.gz.1’\n",
            "\n",
            "t10k-images-idx3-ub 100%[===================>]   1.57M  --.-KB/s    in 0.003s  \n",
            "\n",
            "2023-06-02 01:51:50 (550 MB/s) - ‘t10k-images-idx3-ubyte.gz.1’ saved [1648877/1648877]\n",
            "\n",
            "--2023-06-02 01:51:50--  http://yann.lecun.com/exdb/mnist/t10k-labels-idx1-ubyte.gz\n",
            "Reusing existing connection to yann.lecun.com:80.\n",
            "HTTP request sent, awaiting response... 200 OK\n",
            "Length: 4542 (4.4K) [application/x-gzip]\n",
            "Saving to: ‘t10k-labels-idx1-ubyte.gz.1’\n",
            "\n",
            "t10k-labels-idx1-ub 100%[===================>]   4.44K  --.-KB/s    in 0s      \n",
            "\n",
            "2023-06-02 01:51:50 (920 MB/s) - ‘t10k-labels-idx1-ubyte.gz.1’ saved [4542/4542]\n",
            "\n",
            "FINISHED --2023-06-02 01:51:50--\n",
            "Total wall clock time: 0.3s\n",
            "Downloaded: 4 files, 11M in 0.1s (86.0 MB/s)\n"
          ]
        }
      ]
    },
    {
      "cell_type": "code",
      "source": [
        "# Caminhos\n",
        "train_images_path = \"/content/train-images-idx3-ubyte.gz\"\n",
        "train_labels_path = \"/content/train-labels-idx1-ubyte.gz\"\n",
        "test_images_path = \"/content/t10k-images-idx3-ubyte.gz\"\n",
        "test_labels_path = \"/content/t10k-labels-idx1-ubyte.gz\""
      ],
      "metadata": {
        "id": "IQK6Vs3uzWxN"
      },
      "execution_count": null,
      "outputs": []
    },
    {
      "cell_type": "code",
      "source": [
        "# Extrair arquivos\n",
        "def extract_dataset(file_path):\n",
        "    with gzip.open(file_path, 'rb') as f:\n",
        "        data = np.frombuffer(f.read(), dtype=np.uint8, offset=16)\n",
        "    return data.reshape(-1, 28, 28).astype(np.float32)"
      ],
      "metadata": {
        "id": "3_0A_iiuzhs9"
      },
      "execution_count": null,
      "outputs": []
    },
    {
      "cell_type": "code",
      "source": [
        "# Extraindo datasets\n",
        "x_train = extract_dataset(train_images_path)\n",
        "y_train = np.frombuffer(gzip.open(train_labels_path, 'rb').read(), dtype=np.uint8, offset=8)\n",
        "x_test = extract_dataset(test_images_path)\n",
        "y_test = np.frombuffer(gzip.open(test_labels_path, 'rb').read(), dtype=np.uint8, offset=8)"
      ],
      "metadata": {
        "id": "pvonG1BNzlR9"
      },
      "execution_count": null,
      "outputs": []
    },
    {
      "cell_type": "code",
      "source": [
        "# Divide Por 255\n",
        "x_train /= 255.0\n",
        "x_test /= 255.0"
      ],
      "metadata": {
        "id": "rFvnY9qDzpOs"
      },
      "execution_count": null,
      "outputs": []
    },
    {
      "cell_type": "code",
      "source": [
        "# Define a arquitetura do modelo\n",
        "model = tf.keras.models.Sequential([\n",
        "    tf.keras.layers.Flatten(input_shape=(28, 28)),\n",
        "    tf.keras.layers.Dense(512, activation='relu'),\n",
        "    tf.keras.layers.Dense(10, activation='softmax')\n",
        "])"
      ],
      "metadata": {
        "id": "0fXKfu1_z1Ad"
      },
      "execution_count": null,
      "outputs": []
    },
    {
      "cell_type": "code",
      "source": [
        "# Compilando o modelo\n",
        "model.compile(optimizer='rmsprop',\n",
        "              loss='sparse_categorical_crossentropy',\n",
        "              metrics=['accuracy'])"
      ],
      "metadata": {
        "id": "TAn8Kp7Vz5Tk"
      },
      "execution_count": null,
      "outputs": []
    },
    {
      "cell_type": "code",
      "source": [
        "# Treino\n",
        "model.fit(x_train, y_train, epochs=5, batch_size=32, validation_data=(x_test, y_test))"
      ],
      "metadata": {
        "colab": {
          "base_uri": "https://localhost:8080/"
        },
        "id": "iV2CaCAKz84l",
        "outputId": "d3416fac-122a-49a0-d99f-0aae67b246e2"
      },
      "execution_count": null,
      "outputs": [
        {
          "output_type": "stream",
          "name": "stdout",
          "text": [
            "Epoch 1/5\n",
            "1875/1875 [==============================] - 13s 7ms/step - loss: 0.2015 - accuracy: 0.9414 - val_loss: 0.1008 - val_accuracy: 0.9688\n",
            "Epoch 2/5\n",
            "1875/1875 [==============================] - 13s 7ms/step - loss: 0.0844 - accuracy: 0.9745 - val_loss: 0.1064 - val_accuracy: 0.9705\n",
            "Epoch 3/5\n",
            "1875/1875 [==============================] - 14s 7ms/step - loss: 0.0584 - accuracy: 0.9822 - val_loss: 0.0827 - val_accuracy: 0.9784\n",
            "Epoch 4/5\n",
            "1875/1875 [==============================] - 13s 7ms/step - loss: 0.0441 - accuracy: 0.9869 - val_loss: 0.0682 - val_accuracy: 0.9809\n",
            "Epoch 5/5\n",
            "1875/1875 [==============================] - 13s 7ms/step - loss: 0.0335 - accuracy: 0.9902 - val_loss: 0.0821 - val_accuracy: 0.9800\n"
          ]
        },
        {
          "output_type": "execute_result",
          "data": {
            "text/plain": [
              "<keras.callbacks.History at 0x7f25333c7dc0>"
            ]
          },
          "metadata": {},
          "execution_count": 53
        }
      ]
    },
    {
      "cell_type": "code",
      "source": [
        "# Teste\n",
        "_, test_accuracy = model.evaluate(x_test, y_test)\n",
        "print('Test accuracy:', test_accuracy)"
      ],
      "metadata": {
        "colab": {
          "base_uri": "https://localhost:8080/"
        },
        "id": "_jskZuNGz_QQ",
        "outputId": "bd109686-33fb-4b02-a847-300719c5cb85"
      },
      "execution_count": null,
      "outputs": [
        {
          "output_type": "stream",
          "name": "stdout",
          "text": [
            "313/313 [==============================] - 1s 3ms/step - loss: 0.0821 - accuracy: 0.9800\n",
            "Test accuracy: 0.9800000190734863\n"
          ]
        }
      ]
    }
  ]
}